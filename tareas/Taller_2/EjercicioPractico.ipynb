{
 "cells": [
  {
   "cell_type": "markdown",
   "metadata": {},
   "source": [
    "# Ejercicio Práctico\n",
    "***\n",
    "\n",
    "La idea aquí es analizar el conjunto de datos, visualizar los datos, aplicar los métodos de selección (o transformación) y aplicar los métodos de clasificación vistos."
   ]
  },
  {
   "cell_type": "markdown",
   "metadata": {},
   "source": [
    "## Parte 1: Clasificación sin selección de características\n",
    "\n",
    "Se entregan dos conjuntos de datos:\n",
    "\n",
    "- Rostros, es un conjunto de datos con dos clases (cara/no-cara). Este conjunto tiene 264 muestras en total con 1589 características.\n",
    "\n",
    "- Género, este conjunto tiene 2 clases (female/male), con un total de 610 muestras, cada una con 1589 características calculadas\n",
    "\n",
    "A desarrollar para cada conjunto de datos:\n",
    "\n",
    "1. Cargue los archivos de los conjuntos de datos adjuntos (los datos ya están normalizados)\n",
    "2. Divida el conjunto de datos en 2 subconjuntos: un conjunto con el 80% de las muestras para el entrenamiento (training) y otro con el 20% restante como conjunto de pruebas (testing). \n",
    "3. Entrene un clasificador logístico, un clasificador de Bayes Ingenuo, un LDA y QDA y una SVM. \n",
    "4. El clasificador debe ser entrenado con los datos de entrenamiento de la partición del punto anterior.\n",
    "5. Use el conjunto de prueba para evaluar el clasificador: muestre la precisión (accuracy) y la matriz de confusión.\n"
   ]
  },
  {
   "cell_type": "code",
   "execution_count": 1,
   "metadata": {},
   "outputs": [],
   "source": [
    "#Importe aquí las bibliotecas necesarias\n",
    "import scipy.io\n",
    "%matplotlib inline\n",
    "\n",
    "import numpy as np    #Para el manejo de arreglos\n",
    "import pandas as pd   #Para el manejo de conjuntos de datos, tratados como tablas\n",
    "import seaborn as sns #Para la construcción y visualización de gráficos\n",
    "import matplotlib.pyplot as plt #Pra la construcción de gráficos\n",
    "\n",
    "from sklearn import metrics #Las métricas de rendimiento de un clasificador\n",
    "from sklearn import model_selection #Para el particionamiento de los conjuntos de datos\n",
    "from sklearn import datasets #Conjuntos de datos predefinidos en sklearn\n",
    "from sklearn import preprocessing #Nos ayuda a convertir características categóricas a numéricas\n",
    "\n",
    "from sklearn import naive_bayes #importamos la librería que contiene el clasificador de Bayes\n",
    "from sklearn import discriminant_analysis  # LDA & QDA\n",
    "from sklearn import svm  # SVM"
   ]
  },
  {
   "cell_type": "markdown",
   "metadata": {},
   "source": [
    "# Base de datos Rostros"
   ]
  },
  {
   "cell_type": "code",
   "execution_count": 2,
   "metadata": {},
   "outputs": [],
   "source": [
    "#Punto 1: Clasificación sin selección de características\n",
    "\n",
    "#Lea el Conjunto de datos de los rostros\n",
    "mat = scipy.io.loadmat('datos/set05-face-detection.mat')\n",
    "\n",
    "y = mat['d'] # Etiquetas de clase de los objetos\n",
    "X = mat['f'] # Matriz de datos: 300 objetos (filas) x 1643 características (columnas)\n",
    "Xn = mat['fn'] # Nombres de las características"
   ]
  },
  {
   "cell_type": "markdown",
   "metadata": {},
   "source": [
    "Ahora particionamos el conjunto de datos en dos partes: una para entrenar y otra para validar"
   ]
  },
  {
   "cell_type": "code",
   "execution_count": 3,
   "metadata": {},
   "outputs": [],
   "source": [
    "X_train, X_test, y_train, y_test = model_selection.train_test_split(X, y, test_size=0.2, random_state=2)"
   ]
  },
  {
   "cell_type": "markdown",
   "metadata": {},
   "source": [
    "Procedemos a entrenamos el clasificador"
   ]
  },
  {
   "cell_type": "markdown",
   "metadata": {},
   "source": [
    "## Modelo Logístico"
   ]
  },
  {
   "cell_type": "code",
   "execution_count": 4,
   "metadata": {},
   "outputs": [],
   "source": [
    "from sklearn.linear_model import LinearRegression # Regresion lineal teórica\n",
    "from sklearn.linear_model import SGDRegressor #Regregsión lineal uando gradiente descendente estocástico\n",
    "\n",
    "import math\n",
    "from sklearn.preprocessing import StandardScaler #Para escalar los datos\n",
    "from sklearn.linear_model import LogisticRegression #Implementación de la regresión logística"
   ]
  },
  {
   "cell_type": "markdown",
   "metadata": {},
   "source": [
    "### Entrenamiento del modelo\n",
    "Ahora procedemos a entrenar el clasificador de regresión logística."
   ]
  },
  {
   "cell_type": "code",
   "execution_count": 5,
   "metadata": {},
   "outputs": [
    {
     "name": "stderr",
     "output_type": "stream",
     "text": [
      "C:\\Users\\Lina\\Anaconda3\\lib\\site-packages\\sklearn\\linear_model\\logistic.py:433: FutureWarning: Default solver will be changed to 'lbfgs' in 0.22. Specify a solver to silence this warning.\n",
      "  FutureWarning)\n",
      "C:\\Users\\Lina\\Anaconda3\\lib\\site-packages\\sklearn\\utils\\validation.py:761: DataConversionWarning: A column-vector y was passed when a 1d array was expected. Please change the shape of y to (n_samples, ), for example using ravel().\n",
      "  y = column_or_1d(y, warn=True)\n"
     ]
    },
    {
     "data": {
      "text/plain": [
       "LogisticRegression(C=1000, class_weight=None, dual=False, fit_intercept=True,\n",
       "          intercept_scaling=1, max_iter=100, multi_class='warn',\n",
       "          n_jobs=None, penalty='l2', random_state=0, solver='warn',\n",
       "          tol=0.0001, verbose=0, warm_start=False)"
      ]
     },
     "execution_count": 5,
     "metadata": {},
     "output_type": "execute_result"
    }
   ],
   "source": [
    "#Especifiamos el modelo a usar\n",
    "clasificador = LogisticRegression(C=1000, random_state = 0) #Valores pequeños de C especifican mayor regularización\n",
    "\n",
    "#Entrenamos el modelo\n",
    "clasificador.fit(X_train, y_train)"
   ]
  },
  {
   "cell_type": "markdown",
   "metadata": {},
   "source": [
    "### Validación del modelo\n",
    "Ahora determinamos que tan bueno es el modelo usando la precisión (accuracy) sobre el conjunto de datos de test."
   ]
  },
  {
   "cell_type": "code",
   "execution_count": 6,
   "metadata": {},
   "outputs": [
    {
     "name": "stdout",
     "output_type": "stream",
     "text": [
      "Las muestras mal clasificadas fueron 955\n"
     ]
    }
   ],
   "source": [
    "#Hacemos las predicciones sobre el conjunto de test\n",
    "y_pred_log = clasificador.predict(X_test)\n",
    "\n",
    "#Mostramos la cantidad de muestras mal clasificadas \n",
    "print('Las muestras mal clasificadas fueron %d' % (y_test != y_pred_log).sum())"
   ]
  },
  {
   "cell_type": "code",
   "execution_count": 7,
   "metadata": {},
   "outputs": [
    {
     "name": "stdout",
     "output_type": "stream",
     "text": [
      "Precisión del clasificador: 94.34 \n",
      "\n",
      " Matriz de Confusión: \n",
      " [[10  1]\n",
      " [ 2 40]]\n"
     ]
    }
   ],
   "source": [
    "#Ahora podemos calcular y ver la precisión del clasificador\n",
    "acc_log = metrics.accuracy_score(y_test, y_pred_log)\n",
    "mat_log = metrics.confusion_matrix(y_test, y_pred_log)\n",
    "\n",
    "print (\"Precisión del clasificador: %.2f \" %(acc_log*100) )\n",
    "print (\"\\n Matriz de Confusión: \\n\", mat_log)"
   ]
  },
  {
   "cell_type": "code",
   "execution_count": 8,
   "metadata": {},
   "outputs": [
    {
     "data": {
      "text/plain": [
       "<matplotlib.axes._subplots.AxesSubplot at 0x1cc435cfdd8>"
      ]
     },
     "execution_count": 8,
     "metadata": {},
     "output_type": "execute_result"
    },
    {
     "data": {
      "image/png": "[encoded data removed]",
      "text/plain": [
       "<Figure size 432x288 with 1 Axes>"
      ]
     },
     "metadata": {
      "needs_background": "light"
     },
     "output_type": "display_data"
    }
   ],
   "source": [
    "sns.heatmap(mat_log, square=True, annot=True, fmt=\"d\", cbar=False, cmap=\"Blues\")"
   ]
  },
  {
   "cell_type": "markdown",
   "metadata": {},
   "source": [
    "## Modelo Bayes"
   ]
  },
  {
   "cell_type": "code",
   "execution_count": 9,
   "metadata": {},
   "outputs": [
    {
     "name": "stderr",
     "output_type": "stream",
     "text": [
      "C:\\Users\\Lina\\Anaconda3\\lib\\site-packages\\sklearn\\utils\\validation.py:761: DataConversionWarning: A column-vector y was passed when a 1d array was expected. Please change the shape of y to (n_samples, ), for example using ravel().\n",
      "  y = column_or_1d(y, warn=True)\n"
     ]
    },
    {
     "data": {
      "text/plain": [
       "GaussianNB(priors=None, var_smoothing=1e-09)"
      ]
     },
     "execution_count": 9,
     "metadata": {},
     "output_type": "execute_result"
    }
   ],
   "source": [
    "nv = naive_bayes.GaussianNB()\n",
    "\n",
    "#Se entrena el clasificador usando el conjunto de entrenamiento preprocesado\n",
    "nv.fit(X_train, y_train)"
   ]
  },
  {
   "cell_type": "markdown",
   "metadata": {},
   "source": [
    "Finalmente, evaluamos el modelo"
   ]
  },
  {
   "cell_type": "code",
   "execution_count": 10,
   "metadata": {},
   "outputs": [
    {
     "name": "stdout",
     "output_type": "stream",
     "text": [
      "Precisión del clasificador: 90.57 \n",
      "\n",
      "Matriz de Confusión: \n",
      " [[11  0]\n",
      " [ 5 37]]\n"
     ]
    },
    {
     "data": {
      "text/plain": [
       "<matplotlib.axes._subplots.AxesSubplot at 0x1cc43ff4e10>"
      ]
     },
     "execution_count": 10,
     "metadata": {},
     "output_type": "execute_result"
    },
    {
     "data": {
      "image/png": "[encoded data removed]",
      "text/plain": [
       "<Figure size 432x288 with 1 Axes>"
      ]
     },
     "metadata": {
      "needs_background": "light"
     },
     "output_type": "display_data"
    }
   ],
   "source": [
    "#Predecir la clase del conjunto de test\n",
    "y_pred_bayes = nv.predict(X_test)\n",
    "\n",
    "#Calcule la precisión y muestre la matriz de confusión\n",
    "acc_bayes = metrics.accuracy_score(y_test, y_pred_bayes)\n",
    "mat_bayes = metrics.confusion_matrix(y_test, y_pred_bayes)\n",
    "\n",
    "print (\"Precisión del clasificador: %.2f \" %(acc_bayes*100.0) )\n",
    "print (\"\\nMatriz de Confusión: \\n\", mat_bayes)\n",
    "\n",
    "\n",
    "#Esta es otra forma de ver la matriz de confusión\n",
    "sns.heatmap(mat_bayes, square=True, annot=True, fmt=\"d\", cbar=False, cmap=\"Blues\")"
   ]
  },
  {
   "cell_type": "markdown",
   "metadata": {},
   "source": [
    "## Modelo LDA y QDA"
   ]
  },
  {
   "cell_type": "markdown",
   "metadata": {},
   "source": [
    "Entrenamos los modelos"
   ]
  },
  {
   "cell_type": "code",
   "execution_count": 11,
   "metadata": {},
   "outputs": [],
   "source": [
    "# Número de muestras y de características\n",
    "n_samples, n_features = X.shape"
   ]
  },
  {
   "cell_type": "code",
   "execution_count": 12,
   "metadata": {},
   "outputs": [
    {
     "name": "stdout",
     "output_type": "stream",
     "text": [
      "Número de Objetos:  264\n",
      "Número de Características:  1589\n"
     ]
    }
   ],
   "source": [
    "# Visualicemos la matriz de datos y el vector\n",
    "print(\"Número de Objetos: \", n_samples)\n",
    "print(\"Número de Características: \", n_features)"
   ]
  },
  {
   "cell_type": "code",
   "execution_count": 13,
   "metadata": {},
   "outputs": [
    {
     "name": "stderr",
     "output_type": "stream",
     "text": [
      "C:\\Users\\Lina\\Anaconda3\\lib\\site-packages\\sklearn\\utils\\validation.py:761: DataConversionWarning: A column-vector y was passed when a 1d array was expected. Please change the shape of y to (n_samples, ), for example using ravel().\n",
      "  y = column_or_1d(y, warn=True)\n",
      "C:\\Users\\Lina\\Anaconda3\\lib\\site-packages\\sklearn\\discriminant_analysis.py:388: UserWarning: Variables are collinear.\n",
      "  warnings.warn(\"Variables are collinear.\")\n",
      "C:\\Users\\Lina\\Anaconda3\\lib\\site-packages\\sklearn\\utils\\validation.py:761: DataConversionWarning: A column-vector y was passed when a 1d array was expected. Please change the shape of y to (n_samples, ), for example using ravel().\n",
      "  y = column_or_1d(y, warn=True)\n",
      "C:\\Users\\Lina\\Anaconda3\\lib\\site-packages\\sklearn\\discriminant_analysis.py:692: UserWarning: Variables are collinear\n",
      "  warnings.warn(\"Variables are collinear\")\n",
      "C:\\Users\\Lina\\Anaconda3\\lib\\site-packages\\sklearn\\discriminant_analysis.py:692: UserWarning: Variables are collinear\n",
      "  warnings.warn(\"Variables are collinear\")\n"
     ]
    },
    {
     "data": {
      "text/plain": [
       "QuadraticDiscriminantAnalysis(priors=None, reg_param=0.0,\n",
       "               store_covariance=False, store_covariances=None, tol=0.0001)"
      ]
     },
     "execution_count": 13,
     "metadata": {},
     "output_type": "execute_result"
    }
   ],
   "source": [
    "#Especificamos los modelos a usar LDA y QDA\n",
    "lda = discriminant_analysis.LinearDiscriminantAnalysis()\n",
    "qda = discriminant_analysis.QuadraticDiscriminantAnalysis()\n",
    "\n",
    "# Entrenamos los modelos\n",
    "lda.fit(X_train, y_train)\n",
    "qda.fit(X_train, y_train)"
   ]
  },
  {
   "cell_type": "markdown",
   "metadata": {},
   "source": [
    " Medimos la precisión de los modelos en el conjunto de test"
   ]
  },
  {
   "cell_type": "code",
   "execution_count": 14,
   "metadata": {},
   "outputs": [
    {
     "name": "stdout",
     "output_type": "stream",
     "text": [
      "Precisión del clasificador LDA: 90.57 \n"
     ]
    },
    {
     "data": {
      "text/plain": [
       "<matplotlib.axes._subplots.AxesSubplot at 0x1cc44253eb8>"
      ]
     },
     "execution_count": 14,
     "metadata": {},
     "output_type": "execute_result"
    },
    {
     "data": {
      "image/png": "[encoded data removed]",
      "text/plain": [
       "<Figure size 432x288 with 1 Axes>"
      ]
     },
     "metadata": {
      "needs_background": "light"
     },
     "output_type": "display_data"
    }
   ],
   "source": [
    "#Predecimos la clase del conjunto de test\n",
    "y_pred_lda = lda.predict(X_test)\n",
    "acc_lda = metrics.accuracy_score(y_test, y_pred_lda)\n",
    "mat_lda = metrics.confusion_matrix(y_test, y_pred_lda)\n",
    "\n",
    "y_pred_qda = qda.predict(X_test)\n",
    "acc_qda = metrics.accuracy_score(y_test, y_pred_qda)\n",
    "mat_qda = metrics.confusion_matrix(y_test, y_pred_qda)\n",
    "\n",
    "print (\"Precisión del clasificador LDA: %.2f \" %(acc_lda*100.0) )\n",
    "#ax1 = plt.axes()\n",
    "sns.heatmap(mat_lda, square=True, annot=True, fmt=\"d\", cbar=False, cmap=\"Blues\")#, xticklabels=clases, yticklabels=clases, ax = ax1)\n",
    "#ax1.set_title('Matriz de Confusión LDA')\n",
    "#plt.show()"
   ]
  },
  {
   "cell_type": "code",
   "execution_count": 15,
   "metadata": {},
   "outputs": [
    {
     "name": "stdout",
     "output_type": "stream",
     "text": [
      "\n",
      "\n",
      "Precisión del clasificador QDA: 84.91 \n"
     ]
    },
    {
     "data": {
      "text/plain": [
       "<matplotlib.axes._subplots.AxesSubplot at 0x1cc44051358>"
      ]
     },
     "execution_count": 15,
     "metadata": {},
     "output_type": "execute_result"
    },
    {
     "data": {
      "image/png": "[encoded data removed]",
      "text/plain": [
       "<Figure size 432x288 with 1 Axes>"
      ]
     },
     "metadata": {
      "needs_background": "light"
     },
     "output_type": "display_data"
    }
   ],
   "source": [
    "print (\"\\n\\nPrecisión del clasificador QDA: %.2f \" %(acc_qda*100.0) )\n",
    "#ax2 = plt.axes()\n",
    "sns.heatmap(mat_qda, square=True, annot=True, fmt=\"d\", cbar=False, cmap=\"Blues\")#, xticklabels=clases, yticklabels=clases, ax = ax2)\n",
    "#ax2.set_title('Matriz de Confusión LDA:')\n",
    "#plt.show()"
   ]
  },
  {
   "cell_type": "markdown",
   "metadata": {},
   "source": [
    "## Modelo SVM\n",
    "Entrenamos los modelos\n",
    "En este caso entrenamos 3 svm's distintas:\n",
    "\n",
    "* Una SVM Lineal\n",
    "* Una SVM de base Radial y\n",
    "* Una SVM Polinomial"
   ]
  },
  {
   "cell_type": "code",
   "execution_count": 16,
   "metadata": {},
   "outputs": [
    {
     "name": "stderr",
     "output_type": "stream",
     "text": [
      "C:\\Users\\Lina\\Anaconda3\\lib\\site-packages\\sklearn\\utils\\validation.py:761: DataConversionWarning: A column-vector y was passed when a 1d array was expected. Please change the shape of y to (n_samples, ), for example using ravel().\n",
      "  y = column_or_1d(y, warn=True)\n",
      "C:\\Users\\Lina\\Anaconda3\\lib\\site-packages\\sklearn\\utils\\validation.py:761: DataConversionWarning: A column-vector y was passed when a 1d array was expected. Please change the shape of y to (n_samples, ), for example using ravel().\n",
      "  y = column_or_1d(y, warn=True)\n",
      "C:\\Users\\Lina\\Anaconda3\\lib\\site-packages\\sklearn\\svm\\base.py:196: FutureWarning: The default value of gamma will change from 'auto' to 'scale' in version 0.22 to account better for unscaled features. Set gamma explicitly to 'auto' or 'scale' to avoid this warning.\n",
      "  \"avoid this warning.\", FutureWarning)\n",
      "C:\\Users\\Lina\\Anaconda3\\lib\\site-packages\\sklearn\\utils\\validation.py:761: DataConversionWarning: A column-vector y was passed when a 1d array was expected. Please change the shape of y to (n_samples, ), for example using ravel().\n",
      "  y = column_or_1d(y, warn=True)\n",
      "C:\\Users\\Lina\\Anaconda3\\lib\\site-packages\\sklearn\\svm\\base.py:196: FutureWarning: The default value of gamma will change from 'auto' to 'scale' in version 0.22 to account better for unscaled features. Set gamma explicitly to 'auto' or 'scale' to avoid this warning.\n",
      "  \"avoid this warning.\", FutureWarning)\n"
     ]
    },
    {
     "data": {
      "text/plain": [
       "SVC(C=1.0, cache_size=200, class_weight=None, coef0=0.0,\n",
       "  decision_function_shape='ovr', degree=3, gamma='auto_deprecated',\n",
       "  kernel='poly', max_iter=-1, probability=False, random_state=0,\n",
       "  shrinking=True, tol=0.001, verbose=False)"
      ]
     },
     "execution_count": 16,
     "metadata": {},
     "output_type": "execute_result"
    }
   ],
   "source": [
    "#Especificamos los modelos a usar - SVM Lineal\n",
    "svm_lineal = svm.SVC(kernel='linear', C=1.0, random_state=0)\n",
    "svm_rbf = svm.SVC(kernel='rbf', C=1.0, random_state=0)\n",
    "svm_poly = svm.SVC(kernel='poly', C=1.0, random_state=0)\n",
    "\n",
    "# Entrenamos los modelos\n",
    "svm_lineal.fit(X_train, y_train)\n",
    "svm_rbf.fit(X_train, y_train)\n",
    "svm_poly.fit(X_train, y_train)"
   ]
  },
  {
   "cell_type": "markdown",
   "metadata": {},
   "source": [
    "### Medimos la precisión de los modelos en el conjunto de test\n",
    "Medimos la precisión y mostramos las matrices de confusión de los 3 modelos"
   ]
  },
  {
   "cell_type": "code",
   "execution_count": 17,
   "metadata": {},
   "outputs": [
    {
     "name": "stdout",
     "output_type": "stream",
     "text": [
      "Precisión del clasificador Lineal: 96.23 \n",
      "Precisión del clasificador Radial: 79.25 \n",
      "Precisión del clasificador Polinomial: 88.68 \n"
     ]
    },
    {
     "data": {
      "image/png": "[encoded data removed]",
      "text/plain": [
       "<Figure size 720x2160 with 3 Axes>"
      ]
     },
     "metadata": {
      "needs_background": "light"
     },
     "output_type": "display_data"
    }
   ],
   "source": [
    "#Predecimos la clase del conjunto de test\n",
    "y_pred_lineal = svm_lineal.predict(X_test)\n",
    "acc_lineal = metrics.accuracy_score(y_test, y_pred_lineal)\n",
    "mat_lineal = metrics.confusion_matrix(y_test, y_pred_lineal)\n",
    "\n",
    "f,(ax1,ax2,ax3) = plt.subplots(1,3, figsize=(10,30))\n",
    "\n",
    "print (\"Precisión del clasificador Lineal: %.2f \" %(acc_lineal*100.0) )\n",
    "ax1 = sns.heatmap(mat_lineal, square=True, annot=True, fmt=\"d\", cbar=False, cmap=\"Blues\", ax = ax1)\n",
    "ax1.set_title('Matriz de Confusión Lineal')\n",
    "\n",
    "y_pred_rbf = svm_rbf.predict(X_test)\n",
    "acc_rbf = metrics.accuracy_score(y_test, y_pred_rbf)\n",
    "mat_rbf = metrics.confusion_matrix(y_test, y_pred_rbf)\n",
    "\n",
    "print (\"Precisión del clasificador Radial: %.2f \" %(acc_rbf*100.0) )\n",
    "ax2 = sns.heatmap(mat_rbf, square=True, annot=True, fmt=\"d\", cbar=False, cmap=\"Blues\", ax = ax2)\n",
    "ax2.set_title('Matriz de Confusión Radial:')\n",
    "\n",
    "y_pred_poly = svm_poly.predict(X_test)\n",
    "acc_poly = metrics.accuracy_score(y_test, y_pred_poly)\n",
    "mat_poly = metrics.confusion_matrix(y_test, y_pred_poly)\n",
    "\n",
    "print (\"Precisión del clasificador Polinomial: %.2f \" %(acc_poly*100.0) )\n",
    "ax3 = sns.heatmap(mat_poly, square=True, annot=True, fmt=\"d\", cbar=False, cmap=\"Blues\", ax = ax3)\n",
    "ax3.set_title('Matriz de Confusión Polinomial:')\n",
    "\n",
    "plt.show()"
   ]
  },
  {
   "cell_type": "markdown",
   "metadata": {},
   "source": [
    "# Base de datos Género"
   ]
  },
  {
   "cell_type": "code",
   "execution_count": 18,
   "metadata": {},
   "outputs": [],
   "source": [
    "#Punto 1: Clasificación sin selección de características\n",
    "\n",
    "#Lea el Conjunto de datos de los genero\n",
    "mat_g = scipy.io.loadmat('datos/set06-gender.mat')\n",
    "\n",
    "y_g = mat_g['d'] # Etiquetas de clase de los objetos\n",
    "X_g = mat_g['f'] # Matriz de datos: 300 objetos (filas) x 1643 características (columnas)\n",
    "Xn_g = mat_g['fn'] # Nombres de las características"
   ]
  },
  {
   "cell_type": "markdown",
   "metadata": {},
   "source": [
    "Ahora particionamos el conjunto de datos en dos partes: una para entrenar y otra para validar"
   ]
  },
  {
   "cell_type": "code",
   "execution_count": 19,
   "metadata": {},
   "outputs": [],
   "source": [
    "X_g_train, X_g_test, y_g_train, y_g_test = model_selection.train_test_split(X_g, y_g, test_size=0.2, random_state=2)"
   ]
  },
  {
   "cell_type": "markdown",
   "metadata": {},
   "source": [
    "## Modelo Logístico"
   ]
  },
  {
   "cell_type": "code",
   "execution_count": 20,
   "metadata": {},
   "outputs": [],
   "source": [
    "from sklearn.linear_model import LinearRegression # Regresion lineal teórica\n",
    "from sklearn.linear_model import SGDRegressor #Regregsión lineal uando gradiente descendente estocástico\n",
    "import math\n",
    "from sklearn.preprocessing import StandardScaler #Para escalar los datos\n",
    "from sklearn.linear_model import LogisticRegression #Implementación de la regresión logística"
   ]
  },
  {
   "cell_type": "markdown",
   "metadata": {},
   "source": [
    "Entrenamiento del modelo\n",
    "Ahora procedemos a entrenar el clasificador de regresión logística."
   ]
  },
  {
   "cell_type": "code",
   "execution_count": 21,
   "metadata": {},
   "outputs": [],
   "source": [
    "#Especifiamos el modelo a usar\n",
    "clasificador_g = LogisticRegression(C=1000, random_state = 0) #Valores pequeños de C especifican mayor regularización"
   ]
  },
  {
   "cell_type": "code",
   "execution_count": 22,
   "metadata": {},
   "outputs": [
    {
     "name": "stderr",
     "output_type": "stream",
     "text": [
      "C:\\Users\\Lina\\Anaconda3\\lib\\site-packages\\sklearn\\linear_model\\logistic.py:433: FutureWarning: Default solver will be changed to 'lbfgs' in 0.22. Specify a solver to silence this warning.\n",
      "  FutureWarning)\n",
      "C:\\Users\\Lina\\Anaconda3\\lib\\site-packages\\sklearn\\utils\\validation.py:761: DataConversionWarning: A column-vector y was passed when a 1d array was expected. Please change the shape of y to (n_samples, ), for example using ravel().\n",
      "  y = column_or_1d(y, warn=True)\n",
      "C:\\Users\\Lina\\Anaconda3\\lib\\site-packages\\sklearn\\svm\\base.py:931: ConvergenceWarning: Liblinear failed to converge, increase the number of iterations.\n",
      "  \"the number of iterations.\", ConvergenceWarning)\n"
     ]
    },
    {
     "data": {
      "text/plain": [
       "LogisticRegression(C=1000, class_weight=None, dual=False, fit_intercept=True,\n",
       "          intercept_scaling=1, max_iter=100, multi_class='warn',\n",
       "          n_jobs=None, penalty='l2', random_state=0, solver='warn',\n",
       "          tol=0.0001, verbose=0, warm_start=False)"
      ]
     },
     "execution_count": 22,
     "metadata": {},
     "output_type": "execute_result"
    }
   ],
   "source": [
    "#Entrenamos el modelo\n",
    "clasificador_g.fit(X_g_train, y_g_train)"
   ]
  },
  {
   "cell_type": "markdown",
   "metadata": {},
   "source": [
    "## Validación del modelo"
   ]
  },
  {
   "cell_type": "markdown",
   "metadata": {},
   "source": [
    "Ahora determinamos que tan bueno es el modelo usando la precisión (accuracy) sobre el conjunto de datos de test."
   ]
  },
  {
   "cell_type": "code",
   "execution_count": 23,
   "metadata": {},
   "outputs": [
    {
     "name": "stdout",
     "output_type": "stream",
     "text": [
      "Las muestras mal clasificadas fueron 6644\n"
     ]
    }
   ],
   "source": [
    "#Hacemos las predicciones sobre el conjunto de test\n",
    "y_g_pred_log = clasificador_g.predict(X_g_test)\n",
    "\n",
    "#Mostramos la cantidad de muestras mal clasificadas \n",
    "print('Las muestras mal clasificadas fueron %d' % (y_g_test != y_g_pred_log).sum())"
   ]
  },
  {
   "cell_type": "code",
   "execution_count": 24,
   "metadata": {},
   "outputs": [
    {
     "name": "stdout",
     "output_type": "stream",
     "text": [
      "Precisión del clasificador: 93.44 \n",
      "\n",
      " Matriz de Confusión: \n",
      " [[77  5]\n",
      " [ 3 37]]\n"
     ]
    }
   ],
   "source": [
    "#Ahora podemos calcular y ver la precisión del clasificador\n",
    "acc_g_log = metrics.accuracy_score(y_g_test, y_g_pred_log)\n",
    "mat_g_log = metrics.confusion_matrix(y_g_test, y_g_pred_log)\n",
    "\n",
    "print (\"Precisión del clasificador: %.2f \" %(acc_g_log*100) )\n",
    "print (\"\\n Matriz de Confusión: \\n\", mat_g_log)"
   ]
  },
  {
   "cell_type": "code",
   "execution_count": 25,
   "metadata": {},
   "outputs": [
    {
     "data": {
      "text/plain": [
       "<matplotlib.axes._subplots.AxesSubplot at 0x1cc440a1b00>"
      ]
     },
     "execution_count": 25,
     "metadata": {},
     "output_type": "execute_result"
    },
    {
     "data": {
      "image/png": "[encoded data removed]",
      "text/plain": [
       "<Figure size 432x288 with 1 Axes>"
      ]
     },
     "metadata": {
      "needs_background": "light"
     },
     "output_type": "display_data"
    }
   ],
   "source": [
    "sns.heatmap(mat_g_log, square=True, annot=True, fmt=\"d\", cbar=False, cmap=\"Blues\")"
   ]
  },
  {
   "cell_type": "markdown",
   "metadata": {},
   "source": [
    "## Modelo Bayes"
   ]
  },
  {
   "cell_type": "code",
   "execution_count": 26,
   "metadata": {},
   "outputs": [
    {
     "name": "stderr",
     "output_type": "stream",
     "text": [
      "C:\\Users\\Lina\\Anaconda3\\lib\\site-packages\\sklearn\\utils\\validation.py:761: DataConversionWarning: A column-vector y was passed when a 1d array was expected. Please change the shape of y to (n_samples, ), for example using ravel().\n",
      "  y = column_or_1d(y, warn=True)\n"
     ]
    },
    {
     "data": {
      "text/plain": [
       "GaussianNB(priors=None, var_smoothing=1e-09)"
      ]
     },
     "execution_count": 26,
     "metadata": {},
     "output_type": "execute_result"
    }
   ],
   "source": [
    "nv_g = naive_bayes.GaussianNB()\n",
    "\n",
    "#Se entrena el clasificador usando el conjunto de entrenamiento preprocesado\n",
    "nv_g.fit(X_g_train, y_g_train)"
   ]
  },
  {
   "cell_type": "markdown",
   "metadata": {},
   "source": [
    "Finalmente, evaluamos el modelo"
   ]
  },
  {
   "cell_type": "code",
   "execution_count": 27,
   "metadata": {},
   "outputs": [
    {
     "name": "stdout",
     "output_type": "stream",
     "text": [
      "Precisión del clasificador: 67.21 \n",
      "\n",
      "Matriz de Confusión: \n",
      " [[51 31]\n",
      " [ 9 31]]\n"
     ]
    },
    {
     "data": {
      "text/plain": [
       "<matplotlib.axes._subplots.AxesSubplot at 0x1cc441e2d30>"
      ]
     },
     "execution_count": 27,
     "metadata": {},
     "output_type": "execute_result"
    },
    {
     "data": {
      "image/png": "[encoded data removed]",
      "text/plain": [
       "<Figure size 432x288 with 1 Axes>"
      ]
     },
     "metadata": {
      "needs_background": "light"
     },
     "output_type": "display_data"
    }
   ],
   "source": [
    "#Predecir la clase del conjunto de test\n",
    "y_g_pred_bayes = nv_g.predict(X_g_test)\n",
    "\n",
    "#Calcule la precisión y muestre la matriz de confusión\n",
    "acc_g_bayes = metrics.accuracy_score(y_g_test, y_g_pred_bayes)\n",
    "mat_g_bayes = metrics.confusion_matrix(y_g_test, y_g_pred_bayes)\n",
    "\n",
    "print (\"Precisión del clasificador: %.2f \" %(acc_g_bayes*100.0) )\n",
    "print (\"\\nMatriz de Confusión: \\n\", mat_g_bayes)\n",
    "\n",
    "\n",
    "#Esta es otra forma de ver la matriz de confusión\n",
    "sns.heatmap(mat_g_bayes, square=True, annot=True, fmt=\"d\", cbar=False, cmap=\"Blues\")"
   ]
  },
  {
   "cell_type": "markdown",
   "metadata": {},
   "source": [
    "## Modelo LDA y QDA"
   ]
  },
  {
   "cell_type": "markdown",
   "metadata": {},
   "source": [
    "Entrenamos los modelos"
   ]
  },
  {
   "cell_type": "code",
   "execution_count": 28,
   "metadata": {},
   "outputs": [],
   "source": [
    "# Número de muestras y de características\n",
    "n_g_samples, n_g_features = X_g.shape"
   ]
  },
  {
   "cell_type": "code",
   "execution_count": 29,
   "metadata": {},
   "outputs": [
    {
     "name": "stdout",
     "output_type": "stream",
     "text": [
      "Número de Objetos:  610\n",
      "Número de Características:  1589\n"
     ]
    }
   ],
   "source": [
    "# Visualicemos la matriz de datos y el vector\n",
    "print(\"Número de Objetos: \", n_g_samples)\n",
    "print(\"Número de Características: \", n_g_features)"
   ]
  },
  {
   "cell_type": "code",
   "execution_count": 30,
   "metadata": {},
   "outputs": [
    {
     "name": "stderr",
     "output_type": "stream",
     "text": [
      "C:\\Users\\Lina\\Anaconda3\\lib\\site-packages\\sklearn\\utils\\validation.py:761: DataConversionWarning: A column-vector y was passed when a 1d array was expected. Please change the shape of y to (n_samples, ), for example using ravel().\n",
      "  y = column_or_1d(y, warn=True)\n",
      "C:\\Users\\Lina\\Anaconda3\\lib\\site-packages\\sklearn\\discriminant_analysis.py:388: UserWarning: Variables are collinear.\n",
      "  warnings.warn(\"Variables are collinear.\")\n",
      "C:\\Users\\Lina\\Anaconda3\\lib\\site-packages\\sklearn\\utils\\validation.py:761: DataConversionWarning: A column-vector y was passed when a 1d array was expected. Please change the shape of y to (n_samples, ), for example using ravel().\n",
      "  y = column_or_1d(y, warn=True)\n",
      "C:\\Users\\Lina\\Anaconda3\\lib\\site-packages\\sklearn\\discriminant_analysis.py:692: UserWarning: Variables are collinear\n",
      "  warnings.warn(\"Variables are collinear\")\n",
      "C:\\Users\\Lina\\Anaconda3\\lib\\site-packages\\sklearn\\discriminant_analysis.py:692: UserWarning: Variables are collinear\n",
      "  warnings.warn(\"Variables are collinear\")\n"
     ]
    },
    {
     "data": {
      "text/plain": [
       "QuadraticDiscriminantAnalysis(priors=None, reg_param=0.0,\n",
       "               store_covariance=False, store_covariances=None, tol=0.0001)"
      ]
     },
     "execution_count": 30,
     "metadata": {},
     "output_type": "execute_result"
    }
   ],
   "source": [
    "#Especificamos los modelos a usar LDA y QDA\n",
    "lda_g = discriminant_analysis.LinearDiscriminantAnalysis()\n",
    "qda_g = discriminant_analysis.QuadraticDiscriminantAnalysis()\n",
    "\n",
    "# Entrenamos los modelos\n",
    "lda_g.fit(X_g_train, y_g_train)\n",
    "qda_g.fit(X_g_train, y_g_train)"
   ]
  },
  {
   "cell_type": "markdown",
   "metadata": {},
   "source": [
    "Medimos la precisión de los modelos en el conjunto de test"
   ]
  },
  {
   "cell_type": "code",
   "execution_count": 31,
   "metadata": {},
   "outputs": [
    {
     "name": "stdout",
     "output_type": "stream",
     "text": [
      "Precisión del clasificador LDA: 96.72 \n"
     ]
    },
    {
     "data": {
      "text/plain": [
       "<matplotlib.axes._subplots.AxesSubplot at 0x1cc44222898>"
      ]
     },
     "execution_count": 31,
     "metadata": {},
     "output_type": "execute_result"
    },
    {
     "data": {
      "image/png": "[encoded data removed]",
      "text/plain": [
       "<Figure size 432x288 with 1 Axes>"
      ]
     },
     "metadata": {
      "needs_background": "light"
     },
     "output_type": "display_data"
    }
   ],
   "source": [
    "#Predecimos la clase del conjunto de test\n",
    "y_g_pred_lda = lda_g.predict(X_g_test)\n",
    "acc_g_lda = metrics.accuracy_score(y_g_test, y_g_pred_lda)\n",
    "mat_g_lda = metrics.confusion_matrix(y_g_test, y_g_pred_lda)\n",
    "\n",
    "y_g_pred_qda = qda_g.predict(X_g_test)\n",
    "acc_g_qda = metrics.accuracy_score(y_g_test, y_g_pred_qda)\n",
    "mat_g_qda = metrics.confusion_matrix(y_g_test, y_g_pred_qda)\n",
    "\n",
    "print (\"Precisión del clasificador LDA: %.2f \" %(acc_g_lda*100.0) )\n",
    "#ax1 = plt.axes()\n",
    "sns.heatmap(mat_g_lda, square=True, annot=True, fmt=\"d\", cbar=False, cmap=\"Blues\")#, xticklabels=clases, yticklabels=clases, ax = ax1)\n",
    "#ax1.set_title('Matriz de Confusión LDA')\n",
    "#plt.show()"
   ]
  },
  {
   "cell_type": "code",
   "execution_count": 32,
   "metadata": {},
   "outputs": [
    {
     "name": "stdout",
     "output_type": "stream",
     "text": [
      "\n",
      "\n",
      "Precisión del clasificador QDA: 68.85 \n"
     ]
    },
    {
     "data": {
      "text/plain": [
       "<matplotlib.axes._subplots.AxesSubplot at 0x1cc448539e8>"
      ]
     },
     "execution_count": 32,
     "metadata": {},
     "output_type": "execute_result"
    },
    {
     "data": {
      "image/png": "[encoded data removed]",
      "text/plain": [
       "<Figure size 432x288 with 1 Axes>"
      ]
     },
     "metadata": {
      "needs_background": "light"
     },
     "output_type": "display_data"
    }
   ],
   "source": [
    "print (\"\\n\\nPrecisión del clasificador QDA: %.2f \" %(acc_g_qda*100.0) )\n",
    "#ax2 = plt.axes()\n",
    "sns.heatmap(mat_g_qda, square=True, annot=True, fmt=\"d\", cbar=False, cmap=\"Blues\")#, xticklabels=clases, yticklabels=clases, ax = ax2)\n",
    "#ax2.set_title('Matriz de Confusión LDA:')\n",
    "#plt.show()"
   ]
  },
  {
   "cell_type": "markdown",
   "metadata": {},
   "source": [
    "## Modelo SVM"
   ]
  },
  {
   "cell_type": "markdown",
   "metadata": {},
   "source": [
    "Entrenamos los modelos En este caso entrenamos 3 svm's distintas:\n",
    "\n",
    "* Una SVM Lineal\n",
    "* Una SVM de base Radial y\n",
    "* Una SVM Polinomial"
   ]
  },
  {
   "cell_type": "code",
   "execution_count": 33,
   "metadata": {},
   "outputs": [
    {
     "name": "stderr",
     "output_type": "stream",
     "text": [
      "C:\\Users\\Lina\\Anaconda3\\lib\\site-packages\\sklearn\\utils\\validation.py:761: DataConversionWarning: A column-vector y was passed when a 1d array was expected. Please change the shape of y to (n_samples, ), for example using ravel().\n",
      "  y = column_or_1d(y, warn=True)\n",
      "C:\\Users\\Lina\\Anaconda3\\lib\\site-packages\\sklearn\\utils\\validation.py:761: DataConversionWarning: A column-vector y was passed when a 1d array was expected. Please change the shape of y to (n_samples, ), for example using ravel().\n",
      "  y = column_or_1d(y, warn=True)\n",
      "C:\\Users\\Lina\\Anaconda3\\lib\\site-packages\\sklearn\\svm\\base.py:196: FutureWarning: The default value of gamma will change from 'auto' to 'scale' in version 0.22 to account better for unscaled features. Set gamma explicitly to 'auto' or 'scale' to avoid this warning.\n",
      "  \"avoid this warning.\", FutureWarning)\n",
      "C:\\Users\\Lina\\Anaconda3\\lib\\site-packages\\sklearn\\utils\\validation.py:761: DataConversionWarning: A column-vector y was passed when a 1d array was expected. Please change the shape of y to (n_samples, ), for example using ravel().\n",
      "  y = column_or_1d(y, warn=True)\n",
      "C:\\Users\\Lina\\Anaconda3\\lib\\site-packages\\sklearn\\svm\\base.py:196: FutureWarning: The default value of gamma will change from 'auto' to 'scale' in version 0.22 to account better for unscaled features. Set gamma explicitly to 'auto' or 'scale' to avoid this warning.\n",
      "  \"avoid this warning.\", FutureWarning)\n"
     ]
    },
    {
     "data": {
      "text/plain": [
       "SVC(C=1.0, cache_size=200, class_weight=None, coef0=0.0,\n",
       "  decision_function_shape='ovr', degree=3, gamma='auto_deprecated',\n",
       "  kernel='poly', max_iter=-1, probability=False, random_state=0,\n",
       "  shrinking=True, tol=0.001, verbose=False)"
      ]
     },
     "execution_count": 33,
     "metadata": {},
     "output_type": "execute_result"
    }
   ],
   "source": [
    "#Especificamos los modelos a usar - SVM Lineal\n",
    "svm_g_lineal = svm.SVC(kernel='linear', C=1.0, random_state=0)\n",
    "svm_g_rbf = svm.SVC(kernel='rbf', C=1.0, random_state=0)\n",
    "svm_g_poly = svm.SVC(kernel='poly', C=1.0, random_state=0)\n",
    "\n",
    "# Entrenamos los modelos\n",
    "svm_g_lineal.fit(X_g_train, y_g_train)\n",
    "svm_g_rbf.fit(X_g_train, y_g_train)\n",
    "svm_g_poly.fit(X_g_train, y_g_train)"
   ]
  },
  {
   "cell_type": "markdown",
   "metadata": {},
   "source": [
    "### Medimos la precisión de los modelos en el conjunto de test"
   ]
  },
  {
   "cell_type": "markdown",
   "metadata": {},
   "source": [
    "Medimos la precisión y mostramos las matrices de confusión de los 3 modelos"
   ]
  },
  {
   "cell_type": "code",
   "execution_count": 34,
   "metadata": {},
   "outputs": [
    {
     "name": "stdout",
     "output_type": "stream",
     "text": [
      "Precisión del clasificador Lineal: 94.26 \n",
      "Precisión del clasificador Radial: 67.21 \n",
      "Precisión del clasificador Polinomial: 96.72 \n"
     ]
    },
    {
     "data": {
      "image/png": "[encoded data removed]",
      "text/plain": [
       "<Figure size 720x2160 with 3 Axes>"
      ]
     },
     "metadata": {
      "needs_background": "light"
     },
     "output_type": "display_data"
    }
   ],
   "source": [
    "#Predecimos la clase del conjunto de test\n",
    "y_g_pred_lineal = svm_g_lineal.predict(X_g_test)\n",
    "acc_g_lineal = metrics.accuracy_score(y_g_test, y_g_pred_lineal)\n",
    "mat_g_lineal = metrics.confusion_matrix(y_g_test, y_g_pred_lineal)\n",
    "\n",
    "f,(ax1,ax2,ax3) = plt.subplots(1,3, figsize=(10,30))\n",
    "\n",
    "print (\"Precisión del clasificador Lineal: %.2f \" %(acc_g_lineal*100.0) )\n",
    "ax1 = sns.heatmap(mat_g_lineal, square=True, annot=True, fmt=\"d\", cbar=False, cmap=\"Blues\", ax = ax1)\n",
    "ax1.set_title('Matriz de Confusión Lineal')\n",
    "\n",
    "y_g_pred_rbf = svm_g_rbf.predict(X_g_test)\n",
    "acc_g_rbf = metrics.accuracy_score(y_g_test, y_g_pred_rbf)\n",
    "mat_g_rbf = metrics.confusion_matrix(y_g_test, y_g_pred_rbf)\n",
    "\n",
    "print (\"Precisión del clasificador Radial: %.2f \" %(acc_g_rbf*100.0) )\n",
    "ax2 = sns.heatmap(mat_g_rbf, square=True, annot=True, fmt=\"d\", cbar=False, cmap=\"Blues\", ax = ax2)\n",
    "ax2.set_title('Matriz de Confusión Radial:')\n",
    "\n",
    "y_g_pred_poly = svm_g_poly.predict(X_g_test)\n",
    "acc_g_poly  = metrics.accuracy_score(y_g_test, y_g_pred_poly)\n",
    "mat_g_poly = metrics.confusion_matrix(y_g_test, y_g_pred_poly)\n",
    "\n",
    "print (\"Precisión del clasificador Polinomial: %.2f \" %(acc_g_poly*100.0) )\n",
    "ax3 = sns.heatmap(mat_g_poly, square=True, annot=True, fmt=\"d\", cbar=False, cmap=\"Blues\", ax = ax3)\n",
    "ax3.set_title('Matriz de Confusión Polinomial:')\n",
    "\n",
    "plt.show()"
   ]
  },
  {
   "cell_type": "markdown",
   "metadata": {},
   "source": [
    "## Parte 2: Clasificación con selección de características\n",
    "\n",
    "1. Sobre el conjunto de entrenamiento, aplique un método de selección y un método de extracción (o transformación) para seleccionar las 5, 25 y 50 mejores características del conjunto de datos.\n",
    "2. En total usted cuenta con 6 conjuntos de datos de entrenamiento, 3 de la selección y 3 de la transformación.\n",
    "3. Visualice y analice los dos conjuntos de datos que obtuvo de 5 características. Haga sus comentarios respecto a lo que puede visualizar.\n",
    "4. Con cada conjunto de entrenamiento, entrene los mismos clasificadores de la parte 1.\n",
    "5. Filtre el conjunto de datos de prueba y genere los 6 conjuntos correspondientes.\n",
    "6. Evalúe los clasificadores con base en la precisión (accuracy) y la matriz de confusión.\n",
    "7. Compare estos resultados con los clasificadores de la parte anterior. Que hallazgos hay?"
   ]
  },
  {
   "cell_type": "code",
   "execution_count": null,
   "metadata": {},
   "outputs": [],
   "source": []
  }
 ],
 "metadata": {
  "kernelspec": {
   "display_name": "Python 3",
   "language": "python",
   "name": "python3"
  },
  "language_info": {
   "codemirror_mode": {
    "name": "ipython",
    "version": 3
   },
   "file_extension": ".py",
   "mimetype": "text/x-python",
   "name": "python",
   "nbconvert_exporter": "python",
   "pygments_lexer": "ipython3",
   "version": "3.7.3"
  }
 },
 "nbformat": 4,
 "nbformat_minor": 2
}
