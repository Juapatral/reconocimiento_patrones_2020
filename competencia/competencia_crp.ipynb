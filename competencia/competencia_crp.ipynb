{
  "nbformat": 4,
  "nbformat_minor": 0,
  "metadata": {
    "colab": {
      "name": "competencia_crp.ipynb",
      "provenance": [],
      "collapsed_sections": [],
      "machine_shape": "hm",
      "authorship_tag": "ABX9TyNR8DUENwB8DJfVG2e3WQKH",
      "include_colab_link": true
    },
    "kernelspec": {
      "name": "python3",
      "display_name": "Python 3"
    },
    "accelerator": "TPU"
  },
  "cells": [
    {
      "cell_type": "markdown",
      "metadata": {
        "id": "view-in-github",
        "colab_type": "text"
      },
      "source": [
        "<a href=\"https://colab.research.google.com/github/Juapatral/reconocimiento_patrones_2020/blob/master/competencia/competencia_crp.ipynb\" target=\"_parent\"><img src=\"https://colab.research.google.com/assets/colab-badge.svg\" alt=\"Open In Colab\"/></a>"
      ]
    },
    {
      "cell_type": "markdown",
      "metadata": {
        "id": "VzSVBnH5mnmT",
        "colab_type": "text"
      },
      "source": [
        "# Competencia para el curso de Reconocimiento de Patrones\n",
        "## Universidad Nacional de Colombia - Medellín\n",
        "## Posgrado en Analítica\n",
        "## 2020-03-14\n",
        "\n",
        "---\n",
        "\n",
        "## Integrantes\n",
        "\n",
        "* Juan Manuel Marín Quintero\n",
        "* Juan Camilo Agudelo Marín\n",
        "* Lina María Grajales Vanegas\n",
        "* Jhon Anderson Londoño Herrera\n",
        "* Juan Pablo Trujillo Alviz"
      ]
    },
    {
      "cell_type": "markdown",
      "metadata": {
        "id": "bf9THwNFYDkx",
        "colab_type": "text"
      },
      "source": [
        "## Carga de módulos\n",
        "\n",
        "Se procede a cargar todas las librerías necesarias así como la documentación de las funciones propias usadas durante el cuaderno."
      ]
    },
    {
      "cell_type": "code",
      "metadata": {
        "id": "Lpa8YOMvmbJj",
        "colab_type": "code",
        "colab": {}
      },
      "source": [
        "## carga de liberias  \n",
        "\n",
        "# basicas\n",
        "import pandas as pd\n",
        "import numpy as np\n",
        "import matplotlib.pyplot as plt\n",
        "from io import BytesIO\n",
        "from urllib.request import urlopen\n",
        "from zipfile import ZipFile\n",
        "from collections import Counter\n",
        "\n",
        "# preprocesamiento\n",
        "from sklearn.preprocessing import StandardScaler\n",
        "from sklearn.model_selection import train_test_split\n",
        "\n",
        "# modelos\n",
        "from sklearn.ensemble import RandomForestClassifier\n",
        "from sklearn.linear_model import LogisticRegression\n",
        "from sklearn.linear_model import LogisticRegressionCV\n",
        "from sklearn.tree import DecisionTreeClassifier\n",
        "from sklearn.svm import SVC\n",
        "import xgboost as xgb\n",
        "\n",
        "# validacion cruzada e hiperparametros\n",
        "from sklearn.model_selection import GridSearchCV\n",
        "from sklearn.model_selection import RandomizedSearchCV\n",
        "from sklearn.model_selection import cross_validate\n",
        "from sklearn.model_selection import cross_val_predict\n",
        "\n",
        "# metricas\n",
        "from sklearn.metrics import confusion_matrix\n",
        "from sklearn.metrics import recall_score, precision_score, f1_score\n",
        "from sklearn.metrics import classification_report\n",
        "from mlxtend.plotting import plot_confusion_matrix\n",
        "\n",
        "# otras\n",
        "from IPython.display import clear_output\n",
        "\n",
        "# ajuste de parametros\n",
        "pd.set_option('display.max_rows',None)\n",
        "%matplotlib inline"
      ],
      "execution_count": 0,
      "outputs": []
    },
    {
      "cell_type": "code",
      "metadata": {
        "id": "BZXmENCnRzEI",
        "colab_type": "code",
        "colab": {}
      },
      "source": [
        "## bloque de funciones propias\n",
        "\n",
        "# funcion imprimir mejores parametros para la hiperparametrizacion\n",
        "def imprimir_parametros(modelo, parametro):\n",
        "    \n",
        "    # crear texto del parametro\n",
        "    texto = \"Best \" + parametro + \":\"\n",
        "\n",
        "    # imprimir mejor estimado 0\n",
        "    print(texto, modelo.best_estimator_.get_params()[parametro])\n",
        "    return (parametro, modelo.best_estimator_.get_params()[parametro])\n",
        "\n",
        "# funcion descomprimir archivos zip\n",
        "def descomprimir_zip(url, path = '/content'):\n",
        "\n",
        "    # abrir url\n",
        "    with urlopen(url) as zipresp:\n",
        "            # abrir zio\n",
        "            with ZipFile(BytesIO(zipresp.read())) as zfile:\n",
        "                # extraer en el directorio seleccionado\n",
        "                zfile.extractall(path)\n",
        "\n",
        "    # devolver cuando ya haya terminado\n",
        "    return print('Archivo descomprimido')"
      ],
      "execution_count": 0,
      "outputs": []
    },
    {
      "cell_type": "markdown",
      "metadata": {
        "id": "ePEDngp8YSw-",
        "colab_type": "text"
      },
      "source": [
        "## Lectura de archivos\n",
        "En esta sección se descargan los archivos que están disponibles en este [enlace](https://github.com/srobles05/CRP-2019S2-G2/tree/master/Competencia/Datos). "
      ]
    },
    {
      "cell_type": "code",
      "metadata": {
        "id": "u3pEYWCfphX6",
        "colab_type": "code",
        "outputId": "c83fe685-4816-435f-953f-703d6f94b5a3",
        "colab": {
          "base_uri": "https://localhost:8080/",
          "height": 68
        }
      },
      "source": [
        "## descargar archivos\n",
        "\n",
        "# crear urls\n",
        "zipurl1 = 'https://raw.githubusercontent.com/srobles05/CRP-2019S2-G2/master/Competencia/Datos/DatosNegativos2.zip'\n",
        "zipurl2 = 'https://raw.githubusercontent.com/srobles05/CRP-2019S2-G2/master/Competencia/Datos/DatosPositivos2.zip'\n",
        "zipurl3 = 'https://raw.githubusercontent.com/srobles05/CRP-2019S2-G2/master/Competencia/Datos/DatosValidacion2.zip'\n",
        "\n",
        "# descomprimir archivos\n",
        "descomprimir_zip(zipurl1)\n",
        "descomprimir_zip(zipurl2)\n",
        "descomprimir_zip(zipurl3)"
      ],
      "execution_count": 0,
      "outputs": [
        {
          "output_type": "stream",
          "text": [
            "Archivo descomprimido\n",
            "Archivo descomprimido\n",
            "Archivo descomprimido\n"
          ],
          "name": "stdout"
        }
      ]
    },
    {
      "cell_type": "code",
      "metadata": {
        "id": "hEYwXVTxmlC5",
        "colab_type": "code",
        "outputId": "87aac8ef-c592-496a-c0cb-f9de52268ec5",
        "colab": {
          "base_uri": "https://localhost:8080/",
          "height": 425
        }
      },
      "source": [
        "## lectura de archivos\n",
        "\n",
        "# leer archivos\n",
        "datosn = pd.read_csv('/content/DatosNegativos2.csv')\n",
        "datosp = pd.read_csv('/content/DatosPositivos2.csv')\n",
        "datosv = pd.read_csv('/content/DatosValidacion2.csv')\n",
        "\n",
        "# verificar que hayan leido bien\n",
        "print(datosn.head())\n",
        "print(datosp.head())\n",
        "print(datosv.head())"
      ],
      "execution_count": 0,
      "outputs": [
        {
          "output_type": "stream",
          "text": [
            "  sequence  length  molecular_weight  ...  embed_2_98  embed_2_99  class\n",
            "0  MAATRNK       7            790.93  ...    0.017633    0.048197      0\n",
            "1  MKMDGLR       7            850.06  ...    0.005889    0.083639      0\n",
            "2  MNIKHYQ       7            933.09  ...   -0.075733    0.013590      0\n",
            "3  LLWNSIP       7            842.00  ...   -0.169481    0.157881      0\n",
            "4  MHPHMSY       7            902.05  ...   -0.151773    0.077744      0\n",
            "\n",
            "[5 rows x 1760 columns]\n",
            "   Unnamed: 0                   sequence  length  ...  embed_2_98  embed_2_99  class\n",
            "0           0        CGGYSGGWKRKRSTSYRCG      19  ...   -0.657932    0.072015      1\n",
            "1           1           GIMISLMKKLAAHIAK      16  ...   -0.274436   -0.125522      1\n",
            "2           2          FKAWRWAWRMKKLAAPS      17  ...   -0.497003    0.223890      1\n",
            "3           3       WGWRDIVAGIRKVAAPVLST      20  ...   -0.524435    0.252785      1\n",
            "4           4  DTHFPICIFCCGCCRQSNCGMCCKT      25  ...   -1.264345   -0.040525      1\n",
            "\n",
            "[5 rows x 1761 columns]\n",
            "   Unnamed: 0  Unnamed: 0.1  ... embed_2_99  class\n",
            "0           0             0  ...  -0.257650      1\n",
            "1           1             1  ...   0.052278      1\n",
            "2           2             2  ...  -0.178319      1\n",
            "3           3             3  ...   0.369630      1\n",
            "4           4             4  ...  -0.055827      1\n",
            "\n",
            "[5 rows x 1762 columns]\n"
          ],
          "name": "stdout"
        }
      ]
    },
    {
      "cell_type": "markdown",
      "metadata": {
        "id": "JZz_rlOoYvqo",
        "colab_type": "text"
      },
      "source": [
        "## Análisis exploratorio de datos (EDA)\n",
        "\n",
        "En esta sección se realiza todo el análisis exploratorio de datos, así como las gráficas y las estadísticas principales."
      ]
    },
    {
      "cell_type": "code",
      "metadata": {
        "id": "8F_59wm_Y9X9",
        "colab_type": "code",
        "colab": {}
      },
      "source": [
        ""
      ],
      "execution_count": 0,
      "outputs": []
    },
    {
      "cell_type": "code",
      "metadata": {
        "id": "TZ6faerjY9uK",
        "colab_type": "code",
        "colab": {}
      },
      "source": [
        ""
      ],
      "execution_count": 0,
      "outputs": []
    },
    {
      "cell_type": "markdown",
      "metadata": {
        "id": "aa8o07OQY-pe",
        "colab_type": "text"
      },
      "source": [
        "## Modelado sin selección de variables\n",
        "\n",
        "En esta sección se propone ajustar 3 diferentes modelos sin hacer una selección de variables previa."
      ]
    },
    {
      "cell_type": "markdown",
      "metadata": {
        "id": "2TTSmnrVZLzi",
        "colab_type": "text"
      },
      "source": [
        "### Preparar los datos\n",
        "\n",
        "En esta subsección se preparan los datos para el modelado, se eliminan las columnas que no son necesarias y se visualiza si existen desbalanceos o no en la variable objetivo. También se realiza la partición en entrenamiento y pruebas, para posteriormente hacer la estandarización de variables."
      ]
    },
    {
      "cell_type": "code",
      "metadata": {
        "id": "BgS3rV7sspN1",
        "colab_type": "code",
        "colab": {}
      },
      "source": [
        "## preparar datos los datos\n",
        "\n",
        "# eliminar columnas de indices de positivos y validacion\n",
        "datosp.drop(columns='Unnamed: 0', inplace=True)\n",
        "datosv.drop(columns=['Unnamed: 0', 'Unnamed: 0.1'], inplace=True)\n",
        "\n",
        "# unificar\n",
        "datos = pd.concat([datosn,datosp], ignore_index=True)\n",
        "\n",
        "# verificar los tipos de datos\n",
        "contador = Counter([*datos.dtypes])\n",
        "\n",
        "# se observa que solo existe un tipo de dato object que es sequence\n",
        "\n",
        "# separar columna de sequencia y clase\n",
        "y = datos['class']\n",
        "sequence = datos['sequence']"
      ],
      "execution_count": 0,
      "outputs": []
    },
    {
      "cell_type": "code",
      "metadata": {
        "id": "xzlop4-Ks-7Q",
        "colab_type": "code",
        "outputId": "fa0d453d-af13-477f-f5ad-e35214f438bb",
        "colab": {
          "base_uri": "https://localhost:8080/",
          "height": 262
        }
      },
      "source": [
        "## graficar clase\n",
        "datos['class'].value_counts().plot(kind='bar');"
      ],
      "execution_count": 0,
      "outputs": [
        {
          "output_type": "display_data",
          "data": {
            "image/png": "[encoded data removed]",
            "text/plain": [
              "<Figure size 432x288 with 1 Axes>"
            ]
          },
          "metadata": {
            "tags": []
          }
        }
      ]
    },
    {
      "cell_type": "code",
      "metadata": {
        "id": "1YuEcX5wu9SW",
        "colab_type": "code",
        "outputId": "e7c4d1b2-1799-45bc-a55a-ea7ac99ebaaf",
        "colab": {
          "base_uri": "https://localhost:8080/",
          "height": 262
        }
      },
      "source": [
        "## graficar clase como porcentaje\n",
        "(datos['class'].value_counts()*100/len(datos)).plot(kind='bar');"
      ],
      "execution_count": 0,
      "outputs": [
        {
          "output_type": "display_data",
          "data": {
            "image/png": "[encoded data removed]",
            "text/plain": [
              "<Figure size 432x288 with 1 Axes>"
            ]
          },
          "metadata": {
            "tags": []
          }
        }
      ]
    },
    {
      "cell_type": "code",
      "metadata": {
        "id": "pTfMmEM37eTy",
        "colab_type": "code",
        "colab": {}
      },
      "source": [
        "## preparar datos para modelar\n",
        "\n",
        "# quitar columnas\n",
        "datos.drop(columns=['sequence','class'], inplace = True)\n",
        "\n",
        "# dividir en entrenamiento y prueba\n",
        "x_train, x_test, Y_train, Y_test = train_test_split(datos, y, train_size=0.8, \n",
        "                                                    random_state=42)\n",
        "\n",
        "# estandarizar\n",
        "sc = StandardScaler()\n",
        "sc.fit(X = x_train.values)\n",
        "X_train = sc.transform(x_train.values)\n",
        "X_test = sc.transform(x_test.values)"
      ],
      "execution_count": 0,
      "outputs": []
    },
    {
      "cell_type": "markdown",
      "metadata": {
        "id": "4RvD-i5gZnKB",
        "colab_type": "text"
      },
      "source": [
        "### Ajustar modelo logístico\n",
        "\n",
        "Se propone ajustar un modelo de regresión logística."
      ]
    },
    {
      "cell_type": "code",
      "metadata": {
        "id": "vfPlMd7Y-vJv",
        "colab_type": "code",
        "outputId": "ab5146a5-86c5-4c2d-b496-60cc50b56a42",
        "colab": {
          "base_uri": "https://localhost:8080/",
          "height": 68
        }
      },
      "source": [
        "## validacion cruzada e hiperparametrizacion de regresion logistica\n",
        "\n",
        "# crear modelo\n",
        "logit = LogisticRegression(random_state=42)\n",
        "\n",
        "# parametros\n",
        "param_dist =  {\n",
        "    'penalty':['l1', 'l2'],\n",
        "    'C':np.logspace(-2, 2, 10),\n",
        "#   'solver':['liblinear', 'lbfgs']\n",
        "}\n",
        "\n",
        "# usar validacon cruzada para elegir el mejor modelo                                  \n",
        "mejor_logit = GridSearchCV(logit, param_dist, cv=5, verbose=2, n_jobs=-1)\n",
        "\n",
        "mejor_logit.fit(X_train, Y_train)\n",
        "\n",
        "# limpiar consola\n",
        "clear_output(wait = True)\n",
        "\n",
        "# conocer las mejores caracteristicas\n",
        "[imprimir_parametros(mejor_logit, key) for key in param_dist.keys()]"
      ],
      "execution_count": 0,
      "outputs": [
        {
          "output_type": "stream",
          "text": [
            "Best penalty: l2\n",
            "Best C: 0.01\n"
          ],
          "name": "stdout"
        },
        {
          "output_type": "execute_result",
          "data": {
            "text/plain": [
              "[('penalty', 'l2'), ('C', 0.01)]"
            ]
          },
          "metadata": {
            "tags": []
          },
          "execution_count": 9
        }
      ]
    },
    {
      "cell_type": "code",
      "metadata": {
        "id": "8XYIBKztKnqf",
        "colab_type": "code",
        "outputId": "16b406c5-33ee-4436-88e9-7437592c0692",
        "colab": {
          "base_uri": "https://localhost:8080/",
          "height": 585
        }
      },
      "source": [
        "## ajustar logit al mejor modelo \n",
        "\n",
        "# crear modelo\n",
        "mejor_logit = LogisticRegression(penalty='l2', C=0.01, random_state=42)\n",
        "\n",
        "# ajustar por cv\n",
        "score = cross_validate(mejor_logit, X_train, Y_train, n_jobs=-1, verbose=0)\n",
        "\n",
        "# ajustar logit\n",
        "mejor_logit.fit(X_train, Y_train)\n",
        "\n",
        "# predecir\n",
        "y_logit_train = mejor_logit.predict(X_train)\n",
        "y_logit_test = cross_val_predict(mejor_logit, X_test, Y_test)\n",
        "\n",
        "# mostrar matriz de metricas\n",
        "print(classification_report(Y_test, y_logit_test, target_names=['0', '1']))\n",
        "\n",
        "# mostrar tiempo de modelado\n",
        "print(\"Average Time (seconds):\", np.mean(score['fit_time']))\n",
        "\n",
        "# graficar\n",
        "cm = confusion_matrix(Y_test, y_logit_test)\n",
        "\n",
        "fig, ax = plot_confusion_matrix(conf_mat=cm)\n",
        "plt.show()"
      ],
      "execution_count": 0,
      "outputs": [
        {
          "output_type": "stream",
          "text": [
            "/usr/local/lib/python3.6/dist-packages/sklearn/linear_model/_logistic.py:940: ConvergenceWarning: lbfgs failed to converge (status=1):\n",
            "STOP: TOTAL NO. of ITERATIONS REACHED LIMIT.\n",
            "\n",
            "Increase the number of iterations (max_iter) or scale the data as shown in:\n",
            "    https://scikit-learn.org/stable/modules/preprocessing.html\n",
            "Please also refer to the documentation for alternative solver options:\n",
            "    https://scikit-learn.org/stable/modules/linear_model.html#logistic-regression\n",
            "  extra_warning_msg=_LOGISTIC_SOLVER_CONVERGENCE_MSG)\n"
          ],
          "name": "stderr"
        },
        {
          "output_type": "stream",
          "text": [
            "              precision    recall  f1-score   support\n",
            "\n",
            "           0       0.87      0.91      0.89      2772\n",
            "           1       0.83      0.78      0.80      1629\n",
            "\n",
            "    accuracy                           0.86      4401\n",
            "   macro avg       0.85      0.84      0.85      4401\n",
            "weighted avg       0.86      0.86      0.86      4401\n",
            "\n",
            "Average Time (seconds): 5.966307592391968\n"
          ],
          "name": "stdout"
        },
        {
          "output_type": "display_data",
          "data": {
            "image/png": "[encoded data removed]",
            "text/plain": [
              "<Figure size 432x288 with 1 Axes>"
            ]
          },
          "metadata": {
            "tags": []
          }
        }
      ]
    },
    {
      "cell_type": "markdown",
      "metadata": {
        "id": "vpQPo9-tZuqL",
        "colab_type": "text"
      },
      "source": [
        "### Ajustar modelo de árbol de clasificación\n",
        "\n",
        "Se propone ajustar un modelo de árbol de clasificación."
      ]
    },
    {
      "cell_type": "code",
      "metadata": {
        "id": "NpsdHtUnP48f",
        "colab_type": "code",
        "outputId": "61e052b6-acb0-429e-ac51-a2cdb560b19f",
        "colab": {
          "base_uri": "https://localhost:8080/",
          "height": 187
        }
      },
      "source": [
        "## validacion cruzada e hiperparametrizacion de arbol de clasificacion\n",
        "\n",
        "# crear modelo\n",
        "dtc = DecisionTreeClassifier(random_state = 42)\n",
        "\n",
        "# parametros\n",
        "param_dist =  {\n",
        "    \"max_depth\": [9, 10, 11, 12, 13, 14, 15],\n",
        "    \"max_features\": [11, 12, 13, 14, 15],\n",
        "    \"min_samples_leaf\": [8, 9, 10],\n",
        "    \"min_samples_split\": [2,3,4,5,6,7,8,9],\n",
        "    \"criterion\": [\"gini\", \"entropy\"]\n",
        "}\n",
        "\n",
        "# usar validacon cruzada para elegir el mejor modelo                                  \n",
        "mejor_dtc = GridSearchCV(dtc, param_dist, cv=5, verbose=2, n_jobs=-1)\n",
        "mejor_dtc.fit(X_train, Y_train)\n",
        "                                \n",
        "# limpiar consola\n",
        "clear_output(wait = True)\n",
        "\n",
        "# conocer las mejores caracteristicas\n",
        "[imprimir_parametros(mejor_dtc, key) for key in param_dist.keys()]"
      ],
      "execution_count": 0,
      "outputs": [
        {
          "output_type": "stream",
          "text": [
            "Best max_depth: 12\n",
            "Best max_features: 13\n",
            "Best min_samples_leaf: 9\n",
            "Best min_samples_split: 2\n",
            "Best criterion: entropy\n"
          ],
          "name": "stdout"
        },
        {
          "output_type": "execute_result",
          "data": {
            "text/plain": [
              "[('max_depth', 12),\n",
              " ('max_features', 13),\n",
              " ('min_samples_leaf', 9),\n",
              " ('min_samples_split', 2),\n",
              " ('criterion', 'entropy')]"
            ]
          },
          "metadata": {
            "tags": []
          },
          "execution_count": 11
        }
      ]
    },
    {
      "cell_type": "code",
      "metadata": {
        "id": "4WsHbnavP5FG",
        "colab_type": "code",
        "outputId": "0d17709a-0bba-4d9c-dafc-3bd442fda6a9",
        "colab": {
          "base_uri": "https://localhost:8080/",
          "height": 449
        }
      },
      "source": [
        "## ajustar logit al mejor modelo \n",
        "\n",
        "# crear modelo\n",
        "mejor_dtc = DecisionTreeClassifier(max_depth=12, \n",
        "                                   max_features=13, \n",
        "                                   min_samples_leaf=9,\n",
        "                                   min_samples_split=2,\n",
        "                                   criterion='entropy',\n",
        "                                   random_state=42)\n",
        "\n",
        "# ajustar por cv\n",
        "score = cross_validate(mejor_dtc, X_train, Y_train, n_jobs=-1, verbose=0)\n",
        "\n",
        "# ajustar\n",
        "mejor_dtc.fit(X_train, Y_train)\n",
        "\n",
        "# predecir\n",
        "y_dtc_train = mejor_dtc.predict(X_train)\n",
        "y_dtc_test = cross_val_predict(mejor_dtc, X_test, Y_test)\n",
        "\n",
        "# mostrar matriz de metricas\n",
        "print(classification_report(Y_test, y_dtc_test, target_names=['0', '1']))\n",
        "\n",
        "# mostrar tiempo de modelado\n",
        "print(\"Average Time (seconds):\", np.mean(score['fit_time']))\n",
        "\n",
        "# graficar\n",
        "cm = confusion_matrix(Y_test, y_dtc_test)\n",
        "\n",
        "fig, ax = plot_confusion_matrix(conf_mat=cm)\n",
        "plt.show()"
      ],
      "execution_count": 0,
      "outputs": [
        {
          "output_type": "stream",
          "text": [
            "              precision    recall  f1-score   support\n",
            "\n",
            "           0       0.81      0.84      0.82      2772\n",
            "           1       0.70      0.66      0.68      1629\n",
            "\n",
            "    accuracy                           0.77      4401\n",
            "   macro avg       0.75      0.75      0.75      4401\n",
            "weighted avg       0.77      0.77      0.77      4401\n",
            "\n",
            "Average Time (seconds): 0.7766032695770264\n"
          ],
          "name": "stdout"
        },
        {
          "output_type": "display_data",
          "data": {
            "image/png": "[encoded data removed]",
            "text/plain": [
              "<Figure size 432x288 with 1 Axes>"
            ]
          },
          "metadata": {
            "tags": []
          }
        }
      ]
    },
    {
      "cell_type": "markdown",
      "metadata": {
        "id": "NJ1mAVvJZ2YQ",
        "colab_type": "text"
      },
      "source": [
        "### Ajustar modelo XGBoost\n",
        "\n",
        "Se propone ajustar un Extreme Gradient Boosting. "
      ]
    },
    {
      "cell_type": "code",
      "metadata": {
        "id": "WubapP79BZj-",
        "colab_type": "code",
        "outputId": "c9915e68-6b64-4810-9118-d0373cfa64de",
        "colab": {
          "base_uri": "https://localhost:8080/",
          "height": 102
        }
      },
      "source": [
        "## validacion cruzada e hiperparametrizacion de maquinas de vectores de soporte\n",
        "\n",
        "# crear modelo\n",
        "xgbc = xgb.XGBClassifier(learning_rate=0.02, \n",
        "                         n_estimators=600, \n",
        "                         objective='binary:logistic',\n",
        "                         silent=True, \n",
        "                         nthread=1,\n",
        "                         random_state=42)\n",
        "\n",
        "# parametros\n",
        "param_dist =  {\n",
        "    'min_child_weight': [1, 5, 10],\n",
        "    'gamma': [0.5, 1, 1.5, 2, 5],\n",
        "    'subsample': [0.6, 0.8, 1.0],\n",
        "    'colsample_bytree': [0.6, 0.8, 1.0],\n",
        "    'max_depth': [3, 4, 5]\n",
        "}\n",
        "                                  \n",
        "# usar validacon cruzada para elegir el mejor modelo                                  \n",
        "mejor_xgb = RandomizedSearchCV(xgbc, param_dist, cv=5, verbose=2, n_jobs=30)\n",
        "\n",
        "mejor_xgb.fit(X_train, Y_train)\n",
        "\n",
        "# limpiar consola\n",
        "clear_output(wait = True)\n",
        "\n",
        "# conocer las mejores caracteristicas\n",
        "l = [imprimir_parametros(mejor_xgb, key) for key in param_dist.keys()]\n"
      ],
      "execution_count": 0,
      "outputs": [
        {
          "output_type": "stream",
          "text": [
            "Best min_child_weight: 1\n",
            "Best gamma: 2\n",
            "Best subsample: 0.6\n",
            "Best colsample_bytree: 0.8\n",
            "Best max_depth: 5\n"
          ],
          "name": "stdout"
        }
      ]
    },
    {
      "cell_type": "code",
      "metadata": {
        "id": "YxFlYQgmCWu0",
        "colab_type": "code",
        "outputId": "78b2b260-84b5-484f-c6e0-f1692532c27c",
        "colab": {
          "base_uri": "https://localhost:8080/",
          "height": 449
        }
      },
      "source": [
        "## ajustar svc al mejor modelo \n",
        "\n",
        "# crear modelo\n",
        "# crear modelo\n",
        "mejor_xgbc = xgb.XGBClassifier(mmin_child_weight=1,\n",
        "                               gamma=2,\n",
        "                               subsample=0.6,\n",
        "                               colsample_bytree=0.8,\n",
        "                               max_depth=5,\n",
        "                               learning_rate=0.02,\n",
        "                               n_estimators=600, \n",
        "                               objective='binary:logistic',\n",
        "                               silent=True, \n",
        "                               nthread=1,\n",
        "                               random_state=42)\n",
        "\n",
        "# ajustar por cv\n",
        "score = cross_validate(mejor_xgbc, X_train, Y_train, n_jobs=-1, verbose=0)\n",
        "\n",
        "# ajustar\n",
        "mejor_xgbc.fit(X_train, Y_train)\n",
        "\n",
        "# predecir\n",
        "y_xgb_train = mejor_xgbc.predict(X_train)\n",
        "y_xgb_test = cross_val_predict(mejor_xgbc, X_test, Y_test)\n",
        "\n",
        "# mostrar matriz de metricas\n",
        "print(classification_report(Y_test, y_xgb_test, target_names=['0', '1']))\n",
        "\n",
        "# mostrar tiempo de modelado\n",
        "print(\"Average Time (seconds):\", np.mean(score['fit_time']))\n",
        "\n",
        "# graficar\n",
        "cm = confusion_matrix(Y_test, y_xgb_test)\n",
        "\n",
        "fig, ax = plot_confusion_matrix(conf_mat=cm)\n",
        "plt.show()"
      ],
      "execution_count": 0,
      "outputs": [
        {
          "output_type": "stream",
          "text": [
            "              precision    recall  f1-score   support\n",
            "\n",
            "           0       0.89      0.96      0.92      2772\n",
            "           1       0.92      0.79      0.85      1629\n",
            "\n",
            "    accuracy                           0.89      4401\n",
            "   macro avg       0.90      0.87      0.88      4401\n",
            "weighted avg       0.90      0.89      0.89      4401\n",
            "\n",
            "Average Time (seconds): 830.886464214325\n"
          ],
          "name": "stdout"
        },
        {
          "output_type": "display_data",
          "data": {
            "image/png": "[encoded data removed]",
            "text/plain": [
              "<Figure size 432x288 with 1 Axes>"
            ]
          },
          "metadata": {
            "tags": []
          }
        }
      ]
    }
  ]
}